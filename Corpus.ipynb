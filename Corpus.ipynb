{
 "cells": [
  {
   "cell_type": "markdown",
   "metadata": {},
   "source": [
    "## Downloading videos for the corpus ## \n",
    "Using free to access drama videos, and others provided by https://www.openculture.com/freemoviesonline#Drama "
   ]
  },
  {
   "cell_type": "markdown",
   "metadata": {},
   "source": [
    "## Drama corpus ## \n"
   ]
  },
  {
   "cell_type": "code",
   "execution_count": null,
   "metadata": {},
   "outputs": [
    {
     "name": "stdout",
     "output_type": "stream",
     "text": [
      "Collecting yt_dlp\n",
      "  Downloading yt_dlp-2025.1.26-py3-none-any.whl.metadata (172 kB)\n",
      "Downloading yt_dlp-2025.1.26-py3-none-any.whl (3.2 MB)\n",
      "\u001b[2K   \u001b[90m━━━━━━━━━━━━━━━━━━━━━━━━━━━━━━━━━━━━━━━━\u001b[0m \u001b[32m3.2/3.2 MB\u001b[0m \u001b[31m19.0 MB/s\u001b[0m eta \u001b[36m0:00:00\u001b[0m\n",
      "\u001b[?25hInstalling collected packages: yt_dlp\n",
      "Successfully installed yt_dlp-2025.1.26\n",
      "\n",
      "\u001b[1m[\u001b[0m\u001b[34;49mnotice\u001b[0m\u001b[1;39;49m]\u001b[0m\u001b[39;49m A new release of pip is available: \u001b[0m\u001b[31;49m24.3.1\u001b[0m\u001b[39;49m -> \u001b[0m\u001b[32;49m25.0.1\u001b[0m\n",
      "\u001b[1m[\u001b[0m\u001b[34;49mnotice\u001b[0m\u001b[1;39;49m]\u001b[0m\u001b[39;49m To update, run: \u001b[0m\u001b[32;49mpip install --upgrade pip\u001b[0m\n"
     ]
    }
   ],
   "source": [
    "! pip install yt_dlp"
   ]
  },
  {
   "cell_type": "code",
   "execution_count": 8,
   "metadata": {},
   "outputs": [
    {
     "name": "stdout",
     "output_type": "stream",
     "text": [
      "[youtube] Extracting URL: https://www.youtube.com/watch?v=b87B7zyucgI&t=12s&ab_channel=Prada\n",
      "[youtube] b87B7zyucgI: Downloading webpage\n",
      "[youtube] b87B7zyucgI: Downloading tv client config\n",
      "[youtube] b87B7zyucgI: Downloading player e7567ecf\n",
      "[youtube] b87B7zyucgI: Downloading tv player API JSON\n",
      "[youtube] b87B7zyucgI: Downloading ios player API JSON\n",
      "[youtube] b87B7zyucgI: Downloading m3u8 information\n",
      "[info] b87B7zyucgI: Downloading 1 format(s): 18\n",
      "[download] /Users/alicja/Desktop/VideoAnalyse/Corpus/Drama/PRADA presents ＂CASTELLO CAVALCANTI＂ by Wes Anderson.mp4 has already been downloaded\n",
      "[download] 100% of   20.69MiB\n",
      "[youtube:tab] Extracting URL: https://www.youtube.com/watch?v=IQhBo9Pz0rw&list=PL4dWJMOQ_a1TgayrpaB-SEVJhHC58U1wU&index=39&ab_c...D0%BB%D1%8C%D0%BC%22\n",
      "[youtube:tab] Downloading playlist PL4dWJMOQ_a1TgayrpaB-SEVJhHC58U1wU - add --no-playlist to download just the video IQhBo9Pz0rw\n",
      "[youtube:tab] PL4dWJMOQ_a1TgayrpaB-SEVJhHC58U1wU: Downloading webpage\n"
     ]
    },
    {
     "name": "stderr",
     "output_type": "stream",
     "text": [
      "WARNING: [youtube:tab] Unable to recognize playlist. Downloading just video IQhBo9Pz0rw\n"
     ]
    },
    {
     "name": "stdout",
     "output_type": "stream",
     "text": [
      "[youtube] Extracting URL: https://www.youtube.com/watch?v=IQhBo9Pz0rw\n",
      "[youtube] IQhBo9Pz0rw: Downloading webpage\n",
      "[youtube] IQhBo9Pz0rw: Downloading tv client config\n",
      "[youtube] IQhBo9Pz0rw: Downloading tv player API JSON\n",
      "[youtube] IQhBo9Pz0rw: Downloading ios player API JSON\n",
      "[youtube] IQhBo9Pz0rw: Downloading m3u8 information\n",
      "[info] IQhBo9Pz0rw: Downloading 1 format(s): 18\n",
      "[download] /Users/alicja/Desktop/VideoAnalyse/Corpus/Drama/Мой ласковый и нежный зверь (FullHD, драма, реж. Эмиль Лотяну, 1978 г.).mp4 has already been downloaded\n",
      "[download] 100% of  349.21MiB\n",
      "[youtube] Extracting URL: https://www.youtube.com/watch?v=SRg3j3Tqu1M&ab_channel=PaulRoss\n",
      "[youtube] SRg3j3Tqu1M: Downloading webpage\n",
      "[youtube] SRg3j3Tqu1M: Downloading tv client config\n",
      "[youtube] SRg3j3Tqu1M: Downloading tv player API JSON\n",
      "[youtube] SRg3j3Tqu1M: Downloading ios player API JSON\n",
      "[youtube] SRg3j3Tqu1M: Downloading m3u8 information\n",
      "[info] SRg3j3Tqu1M: Downloading 1 format(s): 18\n",
      "[download] Destination: /Users/alicja/Desktop/VideoAnalyse/Corpus/Drama/Shadowlands Anthony Hopkins Full Movie.mp4\n",
      "[download] 100% of  194.07MiB in 00:00:22 at 8.55MiB/s     \n",
      "[youtube] Extracting URL: https://www.youtube.com/watch?v=4Mc5GEqfU7o&ab_channel=Burak\n",
      "[youtube] 4Mc5GEqfU7o: Downloading webpage\n",
      "[youtube] 4Mc5GEqfU7o: Downloading tv client config\n",
      "[youtube] 4Mc5GEqfU7o: Downloading tv player API JSON\n",
      "[youtube] 4Mc5GEqfU7o: Downloading ios player API JSON\n",
      "[youtube] 4Mc5GEqfU7o: Downloading m3u8 information\n",
      "[info] 4Mc5GEqfU7o: Downloading 1 format(s): 18\n",
      "[download] Destination: /Users/alicja/Desktop/VideoAnalyse/Corpus/Drama/Nabokov on Kafka (1989).mp4\n",
      "[download] 100% of   58.60MiB in 00:00:09 at 6.17MiB/s     \n",
      "[youtube] Extracting URL: https://www.youtube.com/watch?v=UR6B5a_jEok&ab_channel=EmpressMovies\n",
      "[youtube] UR6B5a_jEok: Downloading webpage\n",
      "[youtube] UR6B5a_jEok: Downloading tv client config\n",
      "[youtube] UR6B5a_jEok: Downloading tv player API JSON\n",
      "[youtube] UR6B5a_jEok: Downloading ios player API JSON\n",
      "[youtube] UR6B5a_jEok: Downloading m3u8 information\n",
      "[info] UR6B5a_jEok: Downloading 1 format(s): 18\n",
      "[download] Destination: /Users/alicja/Desktop/VideoAnalyse/Corpus/Drama/Where Angels Fear to Tread ｜ HELENA BONHAM CARTER ｜ HELEN MIRREN ｜ Period Drama ｜  Empress Movies.mp4\n",
      "[download] 100% of  320.47MiB in 00:00:28 at 11.27MiB/s    \n",
      "Download complete!\n"
     ]
    }
   ],
   "source": [
    "import yt_dlp\n",
    "import os\n",
    "\n",
    "# List of YouTube video URLs\n",
    "video_urls = [\n",
    "    \"https://www.youtube.com/watch?v=b87B7zyucgI&t=12s&ab_channel=Prada\",\n",
    "    \"https://www.youtube.com/watch?v=IQhBo9Pz0rw&list=PL4dWJMOQ_a1TgayrpaB-SEVJhHC58U1wU&index=39&ab_channel=%D0%9A%D0%B8%D0%BD%D0%BE%D0%BA%D0%BE%D0%BD%D1%86%D0%B5%D1%80%D0%BD%22%D0%9C%D0%BE%D1%81%D1%84%D0%B8%D0%BB%D1%8C%D0%BC%22\",\n",
    "    \"https://www.youtube.com/watch?v=SRg3j3Tqu1M&ab_channel=PaulRoss\",\n",
    "    \"https://www.youtube.com/watch?v=4Mc5GEqfU7o&ab_channel=Burak\", \n",
    "    \"https://www.youtube.com/watch?v=UR6B5a_jEok&ab_channel=EmpressMovies\"\n",
    "]\n",
    "\n",
    "# Specify the output directory where videos will be saved\n",
    "output_directory = \"/Users/alicja/Desktop/VideoAnalyse/Corpus/Drama\"\n",
    "\n",
    "# Ensure the output directory exists\n",
    "os.makedirs(output_directory, exist_ok=True)\n",
    "\n",
    "# yt-dlp options\n",
    "ydl_opts = {\n",
    "    'outtmpl': os.path.join(output_directory, '%(title)s.%(ext)s'),  # Save with video title\n",
    "    'format': 'best',  # Download the best quality available\n",
    "}\n",
    "\n",
    "# Download videos\n",
    "with yt_dlp.YoutubeDL(ydl_opts) as ydl:\n",
    "    ydl.download(video_urls)\n",
    "\n",
    "print(\"Download complete!\")\n"
   ]
  },
  {
   "cell_type": "markdown",
   "metadata": {},
   "source": [
    "## Action Corpus ## \n"
   ]
  },
  {
   "cell_type": "code",
   "execution_count": 9,
   "metadata": {},
   "outputs": [
    {
     "name": "stdout",
     "output_type": "stream",
     "text": [
      "[youtube] Extracting URL: https://www.youtube.com/watch?v=Pa6F43xa60U&ab_channel=ZEDDrama\n",
      "[youtube] Pa6F43xa60U: Downloading webpage\n",
      "[youtube] Pa6F43xa60U: Downloading tv client config\n",
      "[youtube] Pa6F43xa60U: Downloading player e7567ecf\n",
      "[youtube] Pa6F43xa60U: Downloading tv player API JSON\n",
      "[youtube] Pa6F43xa60U: Downloading ios player API JSON\n",
      "[youtube] Pa6F43xa60U: Downloading m3u8 information\n",
      "[info] Pa6F43xa60U: Downloading 1 format(s): 18\n",
      "[download] Destination: /Users/alicja/Desktop/VideoAnalyse/Corpus/Action/BUTCHER ：  New Action Movie 2025 ｜ Jason Statham ｜ Full Movie ｜ 4K Ultra #actionmovies.mp4\n",
      "[download] 100% of  160.62MiB in 00:00:31 at 5.02MiB/s      \n",
      "[youtube] Extracting URL: https://www.youtube.com/watch?v=kPWAupd8WKE&ab_channel=ZEDDrama\n",
      "[youtube] kPWAupd8WKE: Downloading webpage\n",
      "[youtube] kPWAupd8WKE: Downloading tv client config\n",
      "[youtube] kPWAupd8WKE: Downloading tv player API JSON\n",
      "[youtube] kPWAupd8WKE: Downloading ios player API JSON\n",
      "[youtube] kPWAupd8WKE: Downloading m3u8 information\n",
      "[info] kPWAupd8WKE: Downloading 1 format(s): 18\n",
      "[download] Destination: /Users/alicja/Desktop/VideoAnalyse/Corpus/Action/Apache ｜ Jason Statham ｜ New Action Movie 2024 ｜ Full Movie ｜ 4K Ultra #actionmovies.mp4\n",
      "[download] 100% of  254.26MiB in 00:00:35 at 7.24MiB/s      \n",
      "[youtube] Extracting URL: https://www.youtube.com/watch?v=WvCQ7aLHPk8&ab_channel=TheVault%7CFullFreeMovies\n",
      "[youtube] WvCQ7aLHPk8: Downloading webpage\n",
      "[youtube] WvCQ7aLHPk8: Downloading tv client config\n",
      "[youtube] WvCQ7aLHPk8: Downloading tv player API JSON\n",
      "[youtube] WvCQ7aLHPk8: Downloading ios player API JSON\n",
      "[youtube] WvCQ7aLHPk8: Downloading m3u8 information\n",
      "[info] WvCQ7aLHPk8: Downloading 1 format(s): 18\n",
      "[download] Destination: /Users/alicja/Desktop/VideoAnalyse/Corpus/Action/Heist Gone Awry ｜ Wrong Place, Wrong Time ｜ Action Thriller Movie ｜ Free Movie.mp4\n",
      "[download] 100% of  229.70MiB in 00:00:29 at 7.88MiB/s     \n",
      "[youtube] Extracting URL: https://www.youtube.com/watch?v=eA20RFE74Hg&ab_channel=EmptyCanFilms\n",
      "[youtube] eA20RFE74Hg: Downloading webpage\n",
      "[youtube] eA20RFE74Hg: Downloading tv client config\n",
      "[youtube] eA20RFE74Hg: Downloading tv player API JSON\n",
      "[youtube] eA20RFE74Hg: Downloading ios player API JSON\n",
      "[youtube] eA20RFE74Hg: Downloading m3u8 information\n",
      "[info] eA20RFE74Hg: Downloading 1 format(s): 18\n",
      "[download] Destination: /Users/alicja/Desktop/VideoAnalyse/Corpus/Action/＂RETRIBUTION＂ ｜  Action Short film.mp4\n",
      "[download] 100% of   48.03MiB in 00:00:28 at 1.70MiB/s   \n",
      "[youtube] Extracting URL: https://www.youtube.com/watch?v=TXfltmzRG-g&ab_channel=%26filmstudio\n",
      "[youtube] TXfltmzRG-g: Downloading webpage\n",
      "[youtube] TXfltmzRG-g: Downloading tv client config\n",
      "[youtube] TXfltmzRG-g: Downloading tv player API JSON\n",
      "[youtube] TXfltmzRG-g: Downloading ios player API JSON\n",
      "[youtube] TXfltmzRG-g: Downloading m3u8 information\n",
      "[info] TXfltmzRG-g: Downloading 1 format(s): 18\n",
      "[download] Destination: /Users/alicja/Desktop/VideoAnalyse/Corpus/Action/The Gunfighter (Best Short Film Ever).mp4\n",
      "[download] 100% of   22.46MiB in 00:00:08 at 2.58MiB/s   \n",
      "Download complete!\n"
     ]
    }
   ],
   "source": [
    "import yt_dlp\n",
    "import os\n",
    "\n",
    "# List of YouTube video URLs\n",
    "video_urls = [\"https://www.youtube.com/watch?v=Pa6F43xa60U&ab_channel=ZEDDrama\",\n",
    "              \"https://www.youtube.com/watch?v=kPWAupd8WKE&ab_channel=ZEDDrama\",\n",
    "              \"https://www.youtube.com/watch?v=WvCQ7aLHPk8&ab_channel=TheVault%7CFullFreeMovies\",\n",
    "              \"https://www.youtube.com/watch?v=eA20RFE74Hg&ab_channel=EmptyCanFilms\",\n",
    "              \"https://www.youtube.com/watch?v=TXfltmzRG-g&ab_channel=%26filmstudio\"\n",
    "    \n",
    "]\n",
    "\n",
    "# Specify the output directory where videos will be saved\n",
    "output_directory = \"/Users/alicja/Desktop/VideoAnalyse/Corpus/Action\"\n",
    "\n",
    "# Ensure the output directory exists\n",
    "os.makedirs(output_directory, exist_ok=True)\n",
    "\n",
    "# yt-dlp options\n",
    "ydl_opts = {\n",
    "    'outtmpl': os.path.join(output_directory, '%(title)s.%(ext)s'),  # Save with video title\n",
    "    'format': 'best',  # Download the best quality available\n",
    "}\n",
    "\n",
    "# Download videos\n",
    "with yt_dlp.YoutubeDL(ydl_opts) as ydl:\n",
    "    ydl.download(video_urls)\n",
    "\n",
    "print(\"Download complete!\")"
   ]
  },
  {
   "cell_type": "markdown",
   "metadata": {},
   "source": [
    "## Documentary corpus ##"
   ]
  },
  {
   "cell_type": "code",
   "execution_count": 10,
   "metadata": {},
   "outputs": [
    {
     "name": "stdout",
     "output_type": "stream",
     "text": [
      "[youtube] Extracting URL: https://www.youtube.com/watch?v=bjEq3GB7zvg&ab_channel=FreeDocumentary\n",
      "[youtube] bjEq3GB7zvg: Downloading webpage\n",
      "[youtube] bjEq3GB7zvg: Downloading tv client config\n",
      "[youtube] bjEq3GB7zvg: Downloading player e7567ecf\n",
      "[youtube] bjEq3GB7zvg: Downloading tv player API JSON\n",
      "[youtube] bjEq3GB7zvg: Downloading ios player API JSON\n",
      "[youtube] bjEq3GB7zvg: Downloading m3u8 information\n",
      "[info] bjEq3GB7zvg: Downloading 1 format(s): 18\n",
      "[download] Destination: /Users/alicja/Desktop/VideoAnalyse/Corpus/Documentary/World's Most Feared Cartel ｜ Mexico： Inside the Sinaloa ｜ Free Documentary.mp4\n",
      "[download] 100% of  215.96MiB in 00:01:11 at 3.02MiB/s      \n",
      "[youtube] Extracting URL: https://www.youtube.com/watch?v=YS7XXimRB2I&ab_channel=FreeDocumentary\n",
      "[youtube] YS7XXimRB2I: Downloading webpage\n",
      "[youtube] YS7XXimRB2I: Downloading tv client config\n",
      "[youtube] YS7XXimRB2I: Downloading tv player API JSON\n",
      "[youtube] YS7XXimRB2I: Downloading ios player API JSON\n",
      "[youtube] YS7XXimRB2I: Downloading m3u8 information\n",
      "[info] YS7XXimRB2I: Downloading 1 format(s): 18\n",
      "[download] Destination: /Users/alicja/Desktop/VideoAnalyse/Corpus/Documentary/Life at 122 °F： Surviving in the Hottest Places on Earth ｜ Free Documentary.mp4\n",
      "[download] 100% of  240.47MiB in 00:00:17 at 14.05MiB/s    \n",
      "[youtube] Extracting URL: https://www.youtube.com/watch?v=QyFVqLzGTvY&ab_channel=PopNet\n",
      "[youtube] QyFVqLzGTvY: Downloading webpage\n",
      "[youtube] QyFVqLzGTvY: Downloading tv client config\n",
      "[youtube] QyFVqLzGTvY: Downloading tv player API JSON\n",
      "[youtube] QyFVqLzGTvY: Downloading ios player API JSON\n",
      "[youtube] QyFVqLzGTvY: Downloading m3u8 information\n",
      "[info] QyFVqLzGTvY: Downloading 1 format(s): 18\n",
      "[download] Destination: /Users/alicja/Desktop/VideoAnalyse/Corpus/Documentary/The Phenomenon ｜ Full Documentary.mp4\n",
      "[download] 100% of  299.81MiB in 00:01:20 at 3.74MiB/s      \n",
      "[youtube] Extracting URL: https://www.youtube.com/watch?v=e_ofen9SDeM&ab_channel=RobCarter\n",
      "[youtube] e_ofen9SDeM: Downloading webpage\n",
      "[youtube] e_ofen9SDeM: Downloading tv client config\n",
      "[youtube] e_ofen9SDeM: Downloading tv player API JSON\n",
      "[youtube] e_ofen9SDeM: Downloading ios player API JSON\n",
      "[youtube] e_ofen9SDeM: Downloading m3u8 information\n",
      "[info] e_ofen9SDeM: Downloading 1 format(s): 18\n",
      "[download] Destination: /Users/alicja/Desktop/VideoAnalyse/Corpus/Documentary/THE RAISIN (award-winning short film).mp4\n",
      "[download] 100% of   27.33MiB in 00:00:02 at 10.71MiB/s    \n",
      "[youtube] Extracting URL: https://www.youtube.com/watch?v=dCJg9PLxo5M&ab_channel=SpurFilms\n",
      "[youtube] dCJg9PLxo5M: Downloading webpage\n",
      "[youtube] dCJg9PLxo5M: Downloading tv client config\n",
      "[youtube] dCJg9PLxo5M: Downloading tv player API JSON\n",
      "[youtube] dCJg9PLxo5M: Downloading ios player API JSON\n",
      "[youtube] dCJg9PLxo5M: Downloading m3u8 information\n",
      "[info] dCJg9PLxo5M: Downloading 1 format(s): 18\n",
      "[download] Destination: /Users/alicja/Desktop/VideoAnalyse/Corpus/Documentary/Kinabuhi - Award Winning Documentary Short Film.mp4\n",
      "[download] 100% of   35.75MiB in 00:00:03 at 9.82MiB/s     \n",
      "Download complete!\n"
     ]
    }
   ],
   "source": [
    "import yt_dlp\n",
    "import os\n",
    "\n",
    "# List of YouTube video URLs\n",
    "video_urls = [\"https://www.youtube.com/watch?v=bjEq3GB7zvg&ab_channel=FreeDocumentary\",\n",
    "              \"https://www.youtube.com/watch?v=YS7XXimRB2I&ab_channel=FreeDocumentary\",\n",
    "              \"https://www.youtube.com/watch?v=QyFVqLzGTvY&ab_channel=PopNet\",\n",
    "              \"https://www.youtube.com/watch?v=e_ofen9SDeM&ab_channel=RobCarter\",\n",
    "              \"https://www.youtube.com/watch?v=dCJg9PLxo5M&ab_channel=SpurFilms\"\n",
    "    \n",
    "]\n",
    "\n",
    "# Specify the output directory where videos will be saved\n",
    "output_directory = \"/Users/alicja/Desktop/VideoAnalyse/Corpus/Documentary\"\n",
    "\n",
    "# Ensure the output directory exists\n",
    "os.makedirs(output_directory, exist_ok=True)\n",
    "\n",
    "# yt-dlp options\n",
    "ydl_opts = {\n",
    "    'outtmpl': os.path.join(output_directory, '%(title)s.%(ext)s'),  # Save with video title\n",
    "    'format': 'best',  # Download the best quality available\n",
    "}\n",
    "\n",
    "# Download videos\n",
    "with yt_dlp.YoutubeDL(ydl_opts) as ydl:\n",
    "    ydl.download(video_urls)\n",
    "\n",
    "print(\"Download complete!\")"
   ]
  }
 ],
 "metadata": {
  "kernelspec": {
   "display_name": "base",
   "language": "python",
   "name": "python3"
  },
  "language_info": {
   "codemirror_mode": {
    "name": "ipython",
    "version": 3
   },
   "file_extension": ".py",
   "mimetype": "text/x-python",
   "name": "python",
   "nbconvert_exporter": "python",
   "pygments_lexer": "ipython3",
   "version": "3.9.19"
  }
 },
 "nbformat": 4,
 "nbformat_minor": 2
}
